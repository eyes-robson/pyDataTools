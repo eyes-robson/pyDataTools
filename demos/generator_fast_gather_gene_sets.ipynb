{
 "cells": [
  {
   "cell_type": "code",
   "execution_count": 1,
   "metadata": {},
   "outputs": [],
   "source": [
    "import multiprocessing as mp\n",
    "import itertools as it\n",
    "import functools as ft\n",
    "import pickle\n",
    "import sys\n",
    "import numpy as np\n",
    "import pandas as pd\n",
    "import time\n",
    "import sklearn\n",
    "import sklearn.preprocessing as pre\n",
    "import scipy.sparse as sp"
   ]
  },
  {
   "cell_type": "code",
   "execution_count": 2,
   "metadata": {
    "scrolled": false
   },
   "outputs": [
    {
     "name": "stderr",
     "output_type": "stream",
     "text": [
      "/Users/isrobson/.local/lib/python3.6/site-packages/numpy/lib/arraysetops.py:472: FutureWarning: elementwise comparison failed; returning scalar instead, but in the future will perform elementwise comparison\n",
      "  mask |= (ar1 == a)\n"
     ]
    }
   ],
   "source": [
    "dat = pd.read_csv('./cord_blood_kinases.csv', sep=',', header=0, index_col=0);"
   ]
  },
  {
   "cell_type": "code",
   "execution_count": 3,
   "metadata": {},
   "outputs": [],
   "source": [
    "def get_cell_sets(row, oe_csr):\n",
    "    return oe_csr[row['lower']:row['upper']].sum(axis=0)\n",
    "\n",
    "def first_candidates(cells, cell_sets, min_shared_cells):\n",
    "    count_filter = cell_sets.apply(len) > min_shared_cells\n",
    "    return list(map(lambda x: frozenset([x]), ((cells[count_filter])))), {frozenset([x]):y for x,y in cell_sets[count_filter].to_dict().items()}\n",
    "\n",
    "def intersector(tuple_of_candidates, tuple_of_sets):\n",
    "    return ft.reduce(lambda x,y: x.union(y), tuple_of_candidates), tuple_of_sets[0] & tuple_of_sets[1]\n",
    "\n",
    "def cell_set_getter(input_list, cell_sets):\n",
    "    for i in input_list:\n",
    "        yield cell_sets[i]\n",
    "\n",
    "def pickle_cells(cells, cell_sets, k):\n",
    "    '''These files are gonna be decently big. Do not want to keep them in memory.'''\n",
    "    with open('cell_' + str(k) + '.pickle', 'wb') as f:\n",
    "        pickle.dump(cells, f, pickle.HIGHEST_PROTOCOL)\n",
    "    with open('cell_sets_' + str(k) + '.pickle', 'wb') as f:\n",
    "        pickle.dump(cell_sets, f, pickle.HIGHEST_PROTOCOL)"
   ]
  },
  {
   "cell_type": "code",
   "execution_count": 4,
   "metadata": {},
   "outputs": [],
   "source": [
    "def fast_gather_gene_sets(dat, min_shared_cells = 100, min_percent_cells = None, max_cluster_size = sys.maxsize):\n",
    "    st = time.time()\n",
    "    begin = st\n",
    "    cores = max(mp.cpu_count()-1, 1)\n",
    "    \n",
    "    total_cells = dat['barcode'].nunique()\n",
    "    \n",
    "    if(min_percent_cells is not None):\n",
    "        min_shared_cells = int(min_percent_cells * total_cells)\n",
    "\n",
    "    cell_id_dict = {y:x for x,y in enumerate(dat['symbol'].unique())}\n",
    "    dat['symbol'] = dat['symbol'].map(cell_id_dict)\n",
    "    cells = dat['symbol'].unique()\n",
    "    \n",
    "    barcode_id_dict = {y:x for x,y in enumerate(dat['barcode'].unique())}\n",
    "    dat['barcode'] = dat['barcode'].map(barcode_id_dict)\n",
    "    \n",
    "    cell_sets = dat.groupby('symbol')['barcode'].apply(set)\n",
    "    \n",
    "    en = time.time()\n",
    "    \n",
    "    print('Formatted data in ' + str(en-st) + ' seconds')\n",
    "    \n",
    "    cells, cell_sets = first_candidates(cells, cell_sets, min_shared_cells)\n",
    "    \n",
    "    print(str(len(cells)) + ' genes made have > ' + str(min_shared_cells) + ' cells')\n",
    "    \n",
    "    k = 2\n",
    "    n = len(cells)\n",
    "    \n",
    "    pickle_cells(cells, cell_sets, k)\n",
    "    \n",
    "    while(len(cells) > 0 and k < max_cluster_size):\n",
    "        st = time.time()\n",
    "        \n",
    "        candidates_left, candidates_right = zip(*list(filter(lambda x: len(x[0]|x[1]) == k, it.combinations(cells, 2))))\n",
    "        left_gen = cell_set_getter(candidates_left, cell_sets)\n",
    "        right_gen = cell_set_getter(candidates_right, cell_sets)        \n",
    "        gener = ((x, y) for x, y in map(intersector, *(zip(candidates_left, candidates_right),zip(left_gen, right_gen))) if len(y)>min_shared_cells)\n",
    "\n",
    "        try:\n",
    "            cells, cell_sets = zip(*gener)\n",
    "            cell_sets = dict(zip(cells, cell_sets))\n",
    "            cells = list(cells)\n",
    "        except:\n",
    "            print('Ran out of candidates! Last size: ' + str(k))\n",
    "            print('Total time: ' + str(en - begin) + ' seconds')\n",
    "        \n",
    "        k+= 1\n",
    "        n = len(cells)\n",
    "        \n",
    "        en = time.time()\n",
    "        \n",
    "        print('Found ' + str(n) + ' remaining gene clusters with > ' + str(min_shared_cells) + ' of size: ' +str(k-1))\n",
    "        print('Iteration took: ' + str(en-st) + ' seconds')\n",
    "        \n",
    "        if(n == 0):\n",
    "            print('Terminated! Total run time: ' + str(en - begin) + ' seconds')\n",
    "        else:\n",
    "            print('Pickling!')\n",
    "            pickle_cells(cells, cell_sets, k-1)\n",
    "        "
   ]
  },
  {
   "cell_type": "code",
   "execution_count": 5,
   "metadata": {
    "scrolled": true
   },
   "outputs": [
    {
     "name": "stdout",
     "output_type": "stream",
     "text": [
      "Formatted data in 3.1110219955444336 seconds\n",
      "156 genes made have > 10953 cells\n",
      "Found 515 remaining genes with > 10953 of size: 2\n",
      "Iteration took: 8.20874810218811 seconds\n",
      "Pickling!\n",
      "Found 807 remaining genes with > 10953 of size: 3\n",
      "Iteration took: 12.141279935836792 seconds\n",
      "Pickling!\n",
      "Found 2052 remaining genes with > 10953 of size: 4\n",
      "Iteration took: 23.532851219177246 seconds\n",
      "Pickling!\n"
     ]
    },
    {
     "ename": "ValueError",
     "evalue": "not enough values to unpack (expected 2, got 0)",
     "output_type": "error",
     "traceback": [
      "\u001b[0;31m---------------------------------------------------------------------------\u001b[0m",
      "\u001b[0;31mValueError\u001b[0m                                Traceback (most recent call last)",
      "\u001b[0;32m<ipython-input-5-730bfa1dff5d>\u001b[0m in \u001b[0;36m<module>\u001b[0;34m()\u001b[0m\n\u001b[0;32m----> 1\u001b[0;31m \u001b[0mfast_gather_gene_sets\u001b[0m\u001b[0;34m(\u001b[0m\u001b[0mdat\u001b[0m\u001b[0;34m,\u001b[0m \u001b[0mmin_percent_cells\u001b[0m \u001b[0;34m=\u001b[0m \u001b[0;36m0.04\u001b[0m\u001b[0;34m)\u001b[0m\u001b[0;34m\u001b[0m\u001b[0m\n\u001b[0m",
      "\u001b[0;32m<ipython-input-4-1ed6dcb11c6f>\u001b[0m in \u001b[0;36mfast_gather_gene_sets\u001b[0;34m(dat, min_shared_cells, min_percent_cells, max_cluster_size)\u001b[0m\n\u001b[1;32m     39\u001b[0m         \u001b[0mgener\u001b[0m \u001b[0;34m=\u001b[0m \u001b[0;34m(\u001b[0m\u001b[0;34m(\u001b[0m\u001b[0mx\u001b[0m\u001b[0;34m,\u001b[0m \u001b[0my\u001b[0m\u001b[0;34m)\u001b[0m \u001b[0;32mfor\u001b[0m \u001b[0mx\u001b[0m\u001b[0;34m,\u001b[0m \u001b[0my\u001b[0m \u001b[0;32min\u001b[0m \u001b[0mmap\u001b[0m\u001b[0;34m(\u001b[0m\u001b[0mintersector\u001b[0m\u001b[0;34m,\u001b[0m \u001b[0;34m*\u001b[0m\u001b[0;34m(\u001b[0m\u001b[0mzip\u001b[0m\u001b[0;34m(\u001b[0m\u001b[0mcandidates_left\u001b[0m\u001b[0;34m,\u001b[0m \u001b[0mcandidates_right\u001b[0m\u001b[0;34m)\u001b[0m\u001b[0;34m,\u001b[0m\u001b[0mzip\u001b[0m\u001b[0;34m(\u001b[0m\u001b[0mleft_gen\u001b[0m\u001b[0;34m,\u001b[0m \u001b[0mright_gen\u001b[0m\u001b[0;34m)\u001b[0m\u001b[0;34m)\u001b[0m\u001b[0;34m)\u001b[0m \u001b[0;32mif\u001b[0m \u001b[0mlen\u001b[0m\u001b[0;34m(\u001b[0m\u001b[0my\u001b[0m\u001b[0;34m)\u001b[0m\u001b[0;34m>\u001b[0m\u001b[0mmin_shared_cells\u001b[0m\u001b[0;34m)\u001b[0m\u001b[0;34m\u001b[0m\u001b[0m\n\u001b[1;32m     40\u001b[0m \u001b[0;34m\u001b[0m\u001b[0m\n\u001b[0;32m---> 41\u001b[0;31m         \u001b[0mcells\u001b[0m\u001b[0;34m,\u001b[0m \u001b[0mcell_sets\u001b[0m \u001b[0;34m=\u001b[0m \u001b[0mzip\u001b[0m\u001b[0;34m(\u001b[0m\u001b[0;34m*\u001b[0m\u001b[0mgener\u001b[0m\u001b[0;34m)\u001b[0m\u001b[0;34m\u001b[0m\u001b[0m\n\u001b[0m\u001b[1;32m     42\u001b[0m         \u001b[0mcell_sets\u001b[0m \u001b[0;34m=\u001b[0m \u001b[0mdict\u001b[0m\u001b[0;34m(\u001b[0m\u001b[0mzip\u001b[0m\u001b[0;34m(\u001b[0m\u001b[0mcells\u001b[0m\u001b[0;34m,\u001b[0m \u001b[0mcell_sets\u001b[0m\u001b[0;34m)\u001b[0m\u001b[0;34m)\u001b[0m\u001b[0;34m\u001b[0m\u001b[0m\n\u001b[1;32m     43\u001b[0m         \u001b[0mcells\u001b[0m \u001b[0;34m=\u001b[0m \u001b[0mlist\u001b[0m\u001b[0;34m(\u001b[0m\u001b[0mcells\u001b[0m\u001b[0;34m)\u001b[0m\u001b[0;34m\u001b[0m\u001b[0m\n",
      "\u001b[0;31mValueError\u001b[0m: not enough values to unpack (expected 2, got 0)"
     ]
    }
   ],
   "source": [
    "fast_gather_gene_sets(dat, min_percent_cells = 0.04)"
   ]
  }
 ],
 "metadata": {
  "kernelspec": {
   "display_name": "Python 3",
   "language": "python",
   "name": "python3"
  },
  "language_info": {
   "codemirror_mode": {
    "name": "ipython",
    "version": 3
   },
   "file_extension": ".py",
   "mimetype": "text/x-python",
   "name": "python",
   "nbconvert_exporter": "python",
   "pygments_lexer": "ipython3",
   "version": "3.6.6"
  }
 },
 "nbformat": 4,
 "nbformat_minor": 2
}
