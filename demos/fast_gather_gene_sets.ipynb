{
 "cells": [
  {
   "cell_type": "code",
   "execution_count": 1,
   "metadata": {},
   "outputs": [],
   "source": [
    "import multiprocessing as mp\n",
    "import itertools as it\n",
    "import functools as ft\n",
    "import pickle\n",
    "import sys\n",
    "import numpy as np\n",
    "import pandas as pd\n",
    "import time\n",
    "import sklearn\n",
    "import sklearn.preprocessing as pre\n",
    "import scipy.sparse as sp"
   ]
  },
  {
   "cell_type": "code",
   "execution_count": 2,
   "metadata": {},
   "outputs": [
    {
     "data": {
      "text/plain": [
       "({1, 2}, {3, 4})"
      ]
     },
     "execution_count": 2,
     "metadata": {},
     "output_type": "execute_result"
    }
   ],
   "source": [
    "(set([1, 2]), set([3, 4]))"
   ]
  },
  {
   "cell_type": "code",
   "execution_count": 3,
   "metadata": {},
   "outputs": [
    {
     "data": {
      "text/plain": [
       "frozenset({1, 2, 3, 4})"
      ]
     },
     "execution_count": 3,
     "metadata": {},
     "output_type": "execute_result"
    }
   ],
   "source": [
    "temp = lambda x,y: frozenset(x | y)\n",
    "ft.reduce(temp, list(map(lambda x: frozenset([x]), [1,2,3,4])))\n"
   ]
  },
  {
   "cell_type": "code",
   "execution_count": 4,
   "metadata": {},
   "outputs": [
    {
     "data": {
      "text/plain": [
       "{1: 'a', 2: 'b', 3: 'd'}"
      ]
     },
     "execution_count": 4,
     "metadata": {},
     "output_type": "execute_result"
    }
   ],
   "source": [
    "{**{1:'a', 2:'b'}, **{2:'b', 3:'d'}}"
   ]
  },
  {
   "cell_type": "code",
   "execution_count": 5,
   "metadata": {},
   "outputs": [],
   "source": [
    "def get_cell_sets(row, oe_csr):\n",
    "    return oe_csr[row['lower']:row['upper']].sum(axis=0)\n",
    "\n",
    "def first_candidates(cells, cell_sets, min_shared_cells):\n",
    "    count_filter = cell_sets.apply(np.sum) > min_shared_cells\n",
    "    return list(map(lambda x: frozenset([x]), ((cells[count_filter])))), {frozenset([x]):y for x,y in cell_sets[count_filter].to_dict().items()}\n",
    "\n",
    "def intersector(tuple_of_candidates, cell_sets):\n",
    "    new_candidate_maker = lambda x,y: x | y\n",
    "    return new_candidate_maker(*tuple_of_candidates), np.logical_and(cell_sets[tuple_of_candidates[0]], cell_sets[tuple_of_candidates[1]])\n",
    "\n",
    "def intersect_chunk(chunk_of_tuples, cell_sets, min_shared_cells, q):\n",
    "    new_cell_set = dict([intersector(x, cell_sets) for x in chunk_of_tuples])\n",
    "    new_cell_set = {x:y for x,y in new_cell_set.items() if np.sum(y) > min_shared_cells}\n",
    "    q.put(new_cell_set)\n",
    "    return\n",
    "\n",
    "def pickle_cells(cells, cell_sets, k):\n",
    "    '''These files are gonna be decently big. Do not want to keep them in memory.'''\n",
    "    with open('cell_' + str(k) + '.pickle', 'wb') as f:\n",
    "        pickle.dump(cells, f, pickle.HIGHEST_PROTOCOL)\n",
    "    with open('cell_sets_' + str(k) + '.pickle', 'wb') as f:\n",
    "        pickle.dump(cell_sets, f, pickle.HIGHEST_PROTOCOL)"
   ]
  },
  {
   "cell_type": "code",
   "execution_count": 6,
   "metadata": {},
   "outputs": [],
   "source": [
    "def fast_gather_gene_sets(dat, min_shared_cells = 100, min_percent_cells = None, max_cluster_size = sys.maxsize):\n",
    "    st = time.time()\n",
    "    begin = st\n",
    "    cores = max(mp.cpu_count()-1, 1)\n",
    "    \n",
    "    total_cells = dat['barcode'].nunique()\n",
    "    \n",
    "    if(min_percent_cells is not None):\n",
    "        min_shared_cells = int(min_percent_cells * total_cells)\n",
    "\n",
    "    cell_id_dict = {y:x for x,y in enumerate(dat['symbol'].unique())}\n",
    "    dat['symbol'] = dat['symbol'].map(cell_id_dict)\n",
    "    cells = dat['symbol'].unique()\n",
    "    \n",
    "    dat.sort_values(by='symbol',inplace=True)\n",
    "    \n",
    "    slices = pd.DataFrame(dat.groupby('symbol').count().cumsum())\n",
    "    slices.columns = ['upper']\n",
    "    slices['lower'] = [0] + list(slices['upper'])[0:-1]\n",
    "    \n",
    "    lab_enc = pre.LabelEncoder()\n",
    "    one_hot = pre.OneHotEncoder(categories='auto')\n",
    "    oe_data = one_hot.fit_transform((lab_enc.fit_transform(dat['barcode'].values)).reshape(-1,1))\n",
    "    \n",
    "    get_cell_partial = ft.partial(get_cell_sets, oe_csr=oe_data)\n",
    "    \n",
    "    cell_sets = slices.apply(get_cell_partial, axis=1)\n",
    "    \n",
    "    en = time.time()\n",
    "    \n",
    "    print('Formatted data in ' + str(en-st) + ' seconds')\n",
    "    \n",
    "    cells, cell_sets = first_candidates(cells, cell_sets, min_shared_cells)\n",
    "    \n",
    "    print(str(len(cells)) + ' genes made have > ' + str(min_shared_cells) + ' cells')\n",
    "    \n",
    "    k = 2\n",
    "    n = len(cells)\n",
    "    \n",
    "    pickle_cells(cells, cell_sets, k)\n",
    "    \n",
    "    while(len(cells) > 0 and k < max_cluster_size):\n",
    "        st = time.time()\n",
    "        \n",
    "        candidates_iter = filter(lambda x: len(set(x)) == k, it.combinations(cells, 2))\n",
    "        \n",
    "        q = mp.JoinableQueue()\n",
    "        kwarg_dict = {'cell_sets':cell_sets, 'min_shared_cells':min_shared_cells, 'q':q}\n",
    "\n",
    "        for i in range(cores-1):\n",
    "            p = mp.Process(target=intersect_chunk, args=(it.islice(candidates_iter, n // cores),), kwargs=kwarg_dict)\n",
    "            p.start()\n",
    "            \n",
    "        p = mp.Process(target=intersect_chunk, args=(candidates_iter,), kwargs=kwarg_dict)\n",
    "        p.start()\n",
    "        p.join()\n",
    "        \n",
    "        out = []\n",
    "        for i in range(cores):\n",
    "            out.append(q.get())\n",
    "            q.task_done()\n",
    "            \n",
    "        print('Done with queue!`')\n",
    "    \n",
    "        q.join()\n",
    "        q.close()\n",
    "        \n",
    "        cell_sets = ft.reduce(lambda x, y: {**x, **y}, out)\n",
    "        cells = list(cell_sets.keys())\n",
    "        \n",
    "        k+= 1\n",
    "        n = len(cells)\n",
    "        \n",
    "        en = time.time()\n",
    "        \n",
    "        print('Found ' + str(n) + ' remaining genes with > ' + str(min_shared_cells) + ' of size: ' +str(k))\n",
    "        print('Iteration took: ' + str(en-st) + ' seconds')\n",
    "        \n",
    "        if(n == 0):\n",
    "            print('Terminated! Total run time: ' + str(en - begin) + ' seconds')\n",
    "        else:\n",
    "            pickle_cells(cells, cell_sets, k-1)\n",
    "        "
   ]
  },
  {
   "cell_type": "code",
   "execution_count": 7,
   "metadata": {
    "scrolled": false
   },
   "outputs": [
    {
     "name": "stderr",
     "output_type": "stream",
     "text": [
      "/anaconda3/lib/python3.6/site-packages/numpy/lib/arraysetops.py:472: FutureWarning: elementwise comparison failed; returning scalar instead, but in the future will perform elementwise comparison\n",
      "  mask |= (ar1 == a)\n"
     ]
    }
   ],
   "source": [
    "dat = pd.read_csv('./cord_blood_kinases.csv', sep=',', header=0, index_col=0)"
   ]
  },
  {
   "cell_type": "code",
   "execution_count": 8,
   "metadata": {},
   "outputs": [
    {
     "data": {
      "text/html": [
       "<div>\n",
       "<style scoped>\n",
       "    .dataframe tbody tr th:only-of-type {\n",
       "        vertical-align: middle;\n",
       "    }\n",
       "\n",
       "    .dataframe tbody tr th {\n",
       "        vertical-align: top;\n",
       "    }\n",
       "\n",
       "    .dataframe thead th {\n",
       "        text-align: right;\n",
       "    }\n",
       "</style>\n",
       "<table border=\"1\" class=\"dataframe\">\n",
       "  <thead>\n",
       "    <tr style=\"text-align: right;\">\n",
       "      <th></th>\n",
       "      <th>barcode</th>\n",
       "      <th>symbol</th>\n",
       "    </tr>\n",
       "  </thead>\n",
       "  <tbody>\n",
       "    <tr>\n",
       "      <th>1</th>\n",
       "      <td>MantonCB1_HiSeq_1-AAACCTGCACAGACAG-1</td>\n",
       "      <td>STK4</td>\n",
       "    </tr>\n",
       "    <tr>\n",
       "      <th>2</th>\n",
       "      <td>MantonCB1_HiSeq_1-AAACCTGCACAGACAG-1</td>\n",
       "      <td>RIOK3</td>\n",
       "    </tr>\n",
       "    <tr>\n",
       "      <th>3</th>\n",
       "      <td>MantonCB1_HiSeq_1-AAACCTGCACAGACAG-1</td>\n",
       "      <td>PDK2</td>\n",
       "    </tr>\n",
       "    <tr>\n",
       "      <th>4</th>\n",
       "      <td>MantonCB1_HiSeq_1-AAACCTGCACAGACAG-1</td>\n",
       "      <td>MAPK7</td>\n",
       "    </tr>\n",
       "    <tr>\n",
       "      <th>5</th>\n",
       "      <td>MantonCB1_HiSeq_1-AAACCTGCACAGACAG-1</td>\n",
       "      <td>CDK10</td>\n",
       "    </tr>\n",
       "  </tbody>\n",
       "</table>\n",
       "</div>"
      ],
      "text/plain": [
       "                                barcode symbol\n",
       "1  MantonCB1_HiSeq_1-AAACCTGCACAGACAG-1   STK4\n",
       "2  MantonCB1_HiSeq_1-AAACCTGCACAGACAG-1  RIOK3\n",
       "3  MantonCB1_HiSeq_1-AAACCTGCACAGACAG-1   PDK2\n",
       "4  MantonCB1_HiSeq_1-AAACCTGCACAGACAG-1  MAPK7\n",
       "5  MantonCB1_HiSeq_1-AAACCTGCACAGACAG-1  CDK10"
      ]
     },
     "execution_count": 8,
     "metadata": {},
     "output_type": "execute_result"
    }
   ],
   "source": [
    "dat.head()"
   ]
  },
  {
   "cell_type": "code",
   "execution_count": null,
   "metadata": {},
   "outputs": [
    {
     "name": "stdout",
     "output_type": "stream",
     "text": [
      "Formatted data in 9.105247974395752 seconds\n",
      "303 genes made have > 2738 cells\n"
     ]
    }
   ],
   "source": [
    "fast_gather_gene_sets(dat, min_percent_cells = 0.01)"
   ]
  }
 ],
 "metadata": {
  "kernelspec": {
   "display_name": "Python [default]",
   "language": "python",
   "name": "python3"
  },
  "language_info": {
   "codemirror_mode": {
    "name": "ipython",
    "version": 3
   },
   "file_extension": ".py",
   "mimetype": "text/x-python",
   "name": "python",
   "nbconvert_exporter": "python",
   "pygments_lexer": "ipython3",
   "version": "3.6.5"
  }
 },
 "nbformat": 4,
 "nbformat_minor": 2
}
